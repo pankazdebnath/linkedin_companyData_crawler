{
 "cells": [
  {
   "cell_type": "code",
   "execution_count": 120,
   "id": "loaded-observer",
   "metadata": {},
   "outputs": [
    {
     "name": "stdout",
     "output_type": "stream",
     "text": [
      "Requirement already satisfied: beautifulsoup4 in c:\\users\\pankaz\\anaconda3\\lib\\site-packages (4.9.3)\n",
      "Requirement already satisfied: soupsieve>1.2 in c:\\users\\pankaz\\anaconda3\\lib\\site-packages (from beautifulsoup4) (2.1)\n",
      "Note: you may need to restart the kernel to use updated packages.\n"
     ]
    }
   ],
   "source": [
    "!pip install beautifulsoup4\n",
    "!pip install selenium"
   ]
  },
  {
   "cell_type": "code",
   "execution_count": 121,
   "id": "exact-saint",
   "metadata": {},
   "outputs": [],
   "source": [
    "import os\n",
    "from selenium import webdriver\n",
    "from bs4 import BeautifulSoup as bs"
   ]
  },
  {
   "cell_type": "code",
   "execution_count": 122,
   "id": "valuable-patio",
   "metadata": {},
   "outputs": [
    {
     "name": "stderr",
     "output_type": "stream",
     "text": [
      "<ipython-input-122-fd633988858e>:1: DeprecationWarning: executable_path has been deprecated, please pass in a Service object\n",
      "  browser = webdriver.Chrome('driver/chromedriver.exe')\n",
      "<ipython-input-122-fd633988858e>:9: DeprecationWarning: find_element_by_* commands are deprecated. Please use find_element() instead\n",
      "  elementID = browser.find_element_by_id('username')\n",
      "<ipython-input-122-fd633988858e>:12: DeprecationWarning: find_element_by_* commands are deprecated. Please use find_element() instead\n",
      "  elementID = browser.find_element_by_id('password')\n"
     ]
    }
   ],
   "source": [
    "browser = webdriver.Chrome('driver/chromedriver.exe')\n",
    "browser.get('https://www.linkedin.com/uas/login')\n",
    "\n",
    "file = open('config.txt')\n",
    "lines = file.readlines()\n",
    "username = lines[0]\n",
    "password = lines[1]\n",
    "\n",
    "elementID = browser.find_element_by_id('username')\n",
    "elementID.send_keys(username)\n",
    "\n",
    "elementID = browser.find_element_by_id('password')\n",
    "elementID.send_keys(password)\n",
    "\n",
    "elementID.submit()"
   ]
  },
  {
   "cell_type": "code",
   "execution_count": 127,
   "id": "unauthorized-aircraft",
   "metadata": {},
   "outputs": [],
   "source": [
    "browser.get('https://www.linkedin.com/company/apple/')"
   ]
  },
  {
   "cell_type": "code",
   "execution_count": 128,
   "id": "divided-darwin",
   "metadata": {},
   "outputs": [
    {
     "data": {
      "text/plain": [
       "[['Apple',\n",
       "  'Consumer Electronics',\n",
       "  'Cupertino, California',\n",
       "  '15,693,036 followers',\n",
       "  '412,033 employees',\n",
       "  'http://www.apple.com/careers']]"
      ]
     },
     "execution_count": 128,
     "metadata": {},
     "output_type": "execute_result"
    }
   ],
   "source": [
    "name_div = bs(browser.page_source).find('div',{'class': 'org-top-card__primary-content org-top-card-primary-content--zero-height-logo org-top-card__primary-content--ia'})\n",
    "company_name = name_div.find('h1', {'class':'t-24 t-black t-bold full-width'}).get_text().strip()\n",
    "company_type = name_div.find('div',{'class': 'org-top-card-summary-info-list__info-item'}).get_text().strip()\n",
    "company_details = name_div.find('div',{'class':'inline-block'})\n",
    "company_details_b = company_details.find_all('div',{'class':'org-top-card-summary-info-list__info-item'})\n",
    "company_location = company_details_b[0].get_text().strip()\n",
    "follower_no = company_details_b[1].get_text().strip()\n",
    "employee_no = bs(browser.page_source).find('span', {'class': 'org-top-card-secondary-content__see-all t-normal t-black--light link-without-visited-state link-without-hover-state'}).get_text().strip() #extracting employee number  \n",
    "site_loc = bs(browser.page_source).find('div',{'class': 'org-top-card-primary-actions inline-block v-align-top pb4 pt3'})\n",
    "website = site_loc.find('a').get('href')\n",
    "company_data = [[company_name, company_type, company_location, follower_no, employee_no, website]]\n",
    "company_data"
   ]
  },
  {
   "cell_type": "code",
   "execution_count": null,
   "id": "labeled-highway",
   "metadata": {},
   "outputs": [],
   "source": []
  }
 ],
 "metadata": {
  "kernelspec": {
   "display_name": "Python 3",
   "language": "python",
   "name": "python3"
  },
  "language_info": {
   "codemirror_mode": {
    "name": "ipython",
    "version": 3
   },
   "file_extension": ".py",
   "mimetype": "text/x-python",
   "name": "python",
   "nbconvert_exporter": "python",
   "pygments_lexer": "ipython3",
   "version": "3.8.5"
  }
 },
 "nbformat": 4,
 "nbformat_minor": 5
}
